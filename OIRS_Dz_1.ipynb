{
 "cells": [
  {
   "cell_type": "markdown",
   "id": "34dd5fec-8266-4451-b2e3-8f7b3ed8be7a",
   "metadata": {},
   "source": [
    " # Домашнее задание 1. Линейные модели"
   ]
  },
  {
   "cell_type": "markdown",
   "id": "181d11e8-0a88-432f-9ebb-5317c9da45b1",
   "metadata": {},
   "source": [
    "### Королев Яков ИУ8-83 "
   ]
  },
  {
   "cell_type": "markdown",
   "id": "21ed4f59-e49f-48cd-b33e-df4d6531c18a",
   "metadata": {},
   "source": [
    "В зависимости от варианта, для решения задачи используйте следующие наборы данных:\n",
    "\n",
    "<table>\n",
    "    <thead>\n",
    "         <tr>\n",
    "            <th colspan=1>Задача классификации</th>\n",
    "            <th colspan=5>Задача регрессии</th>\n",
    "        </tr>\n",
    "        <tr>\n",
    "            <th> </th>\n",
    "            <th>A</th>\n",
    "            <th>B</th>\n",
    "            <th>C</th>\n",
    "            <th>D</th>\n",
    "            <th>E</th>\n",
    "        </tr>\n",
    "    </thead>\n",
    "    <tbody>\n",
    "        <tr>\n",
    "            <td>K</td>\n",
    "            <td>1</td>\n",
    "            <td>2</td>\n",
    "            <td>3</td>\n",
    "            <td>4</td>\n",
    "            <td>5</td>\n",
    "        </tr>\n",
    "        <tr>\n",
    "            <td>L</td>\n",
    "            <td>6</td>\n",
    "            <td>7</td>\n",
    "            <td>8</td>\n",
    "            <td>9</td>\n",
    "            <td>10</td>\n",
    "        </tr>\n",
    "        <tr>\n",
    "            <td>M</td>\n",
    "            <td>11</td>\n",
    "            <td>12</td>\n",
    "            <td>13</td>\n",
    "            <td>14</td>\n",
    "            <td>15</td>\n",
    "        </tr>\n",
    "        <tr>\n",
    "            <td>N</td>\n",
    "            <td>16</td>\n",
    "            <td>17</td>\n",
    "            <td>18</td>\n",
    "            <td>19</td>\n",
    "            <td>20</td>\n",
    "        </tr>\n",
    "        <tr>\n",
    "            <td>O</td>\n",
    "            <td>21</td>\n",
    "            <td>22</td>\n",
    "            <td>23</td>\n",
    "            <td>24</td>\n",
    "            <td>25</td>\n",
    "        </tr>\n",
    "    </tbody>\n",
    "</table>"
   ]
  },
  {
   "cell_type": "markdown",
   "id": "a528a5dd-297c-4009-984b-e02f44261a4f",
   "metadata": {},
   "source": [
    "### Наборы данных\n",
    "\n",
    "**Задача регрессии**\n",
    "\n",
    "A. [Набор данных](https://www.kaggle.com/aungpyaeap/fish-market) Таблица `Fish.csv`. Задача: построить модель, предсказывающую вес рыбы (колонка `Weight`). Baseline: RMSE (root mean square error) = 83.7\n",
    "\n",
    "B. [Набор данных](https://www.kaggle.com/nehalbirla/vehicle-dataset-from-cardekho) Таблица `Car details v3.csv`. Задача: построить модель, предсказывающую стоимость автомобиля (колонка `selling_price`). Baseline: RMSE (root mean square error) = 110000\n",
    "\n",
    "C. [Набор данных](https://www.kaggle.com/quantbruce/real-estate-price-prediction) Таблица `Real estate.csv`. Задача: построить модель, предсказывающую стоимость квадратного метра жилья (колонка `Y house price of unit area`). Baseline: RMSE (root mean square error) = 8\n",
    "\n",
    "D. [Набор данных](https://www.kaggle.com/mirichoi0218/insurance) Таблица `insurance.csv`. Задача: построить модель, предсказывающую стоимость медицинской страховки (колонка `charges`). Baseline: RMSE (root mean square error) = 5800\n",
    "\n",
    "E. [Набор данных](https://archive.ics.uci.edu/ml/machine-learning-databases/wine-quality/) Объединить таблицы `winequality-white.csv` и `winequality-red.csv`. Задача: построить модель, предсказывающую качество вина (колонка `quality`). Baseline: RMSE (root mean square error) = 0.8\n",
    "\n",
    "\n",
    "---\n",
    "\n",
    "**Задача классификации**\n",
    "\n",
    "K. [Набор данных](https://www.kaggle.com/c/jigsaw-toxic-comment-classification-challenge/data) Таблица `train.csv`. Задача: детектировать токсичные комментарии (0 или 1 в колонке `toxic`) исключительно по содержимому комментария (колонка `comment_text`). Baseline: sklearn.metrics.f1_score(average='macro') по колонке `toxic` = 0.86\n",
    "\n",
    "L. [Набор данных](https://www.kaggle.com/pavansubhasht/ibm-hr-analytics-attrition-dataset) Таблица `WA_Fn-UseC_-HR-Employee-Attrition.csv`. Задача: предсказать увольнение сотрудника (колонка `attrition`). Baseline: sklearn.metrics.f1_score(average='macro') = 0.70\n",
    "\n",
    "M. [Набор данных](https://www.kaggle.com/uciml/sms-spam-collection-dataset) Таблица `spam.csv` (при загрузку датасета в питоне использовать кодировку encoding='latin-1'). Задача: детектировать, является ли СМС-сообщение спамом. Baseline: sklearn.metrics.f1_score(average='macro') = 0.95\n",
    "\n",
    "N. [Набор данных](https://www.kaggle.com/uciml/pima-indians-diabetes-database) Таблица `diabetes.csv`. Задача: детектировать, есть ли у человека диабет. Baseline: sklearn.metrics.f1_score(average='macro') = 0.73\n",
    "\n",
    "O. [Набор данных](https://www.kaggle.com/fedesoriano/stroke-prediction-dataset) Таблица `healthcare-dataset-stroke-data.csv`. Задача: детектировать, был ли у человека инсульт. Baseline: sklearn.metrics.f1_score(average='macro') = 0.56\n"
   ]
  },
  {
   "cell_type": "markdown",
   "id": "a7195d08-ba32-47b5-9ae2-846e0e0181cb",
   "metadata": {},
   "source": [
    "# 0. Инициализация ноутбука\n",
    "\n",
    "Загрузка необходимых библиотек"
   ]
  },
  {
   "cell_type": "code",
   "execution_count": 1,
   "id": "c991dc78-fcf9-4278-b24f-c8a547617709",
   "metadata": {
    "tags": []
   },
   "outputs": [],
   "source": [
    "import numpy as np\n",
    "import pandas as pd\n",
    "import matplotlib.pyplot as plt\n",
    "import seaborn as sns\n",
    "import re\n",
    "from sklearn.model_selection import train_test_split, GridSearchCV\n",
    "from sklearn.linear_model import LinearRegression, Ridge, Lasso, LogisticRegression\n",
    "from sklearn.metrics import mean_squared_error\n",
    "from sklearn.preprocessing import  StandardScaler\n",
    "from sklearn.decomposition import PCA\n",
    "from sklearn.metrics import f1_score, classification_report\n",
    "from warnings import simplefilter\n",
    "from sklearn.exceptions import ConvergenceWarning\n",
    "simplefilter(\"ignore\", category=ConvergenceWarning)"
   ]
  },
  {
   "cell_type": "markdown",
   "id": "3d644515-fb21-44d6-b72d-dfa15c13ae17",
   "metadata": {},
   "source": [
    "# 1. Задача регресссии (9 баллов)\n",
    "\n",
    "Постройте модель машинного обучения, решающую задачу регресии на вашем наборе данных. Задание считается выполненным, если соответствующая оценка качества на тестовой выборке >= baseline."
   ]
  },
  {
   "cell_type": "markdown",
   "id": "f98b160a-6aa7-4edd-9691-4f556910b08f",
   "metadata": {},
   "source": [
    "## 1.1 Загрузка данных\n",
    "\n",
    "Загрузите данные в датафрейм при помощи функции `read_csv` блиблиотеки pandas"
   ]
  },
  {
   "cell_type": "code",
   "execution_count": 2,
   "id": "1280d736-67b4-446c-90c4-9a03307429e8",
   "metadata": {},
   "outputs": [],
   "source": [
    "data = pd.read_csv('C:\\\\Users\\\\korol\\\\Downloads\\\\B\\\\Car details v3.csv')"
   ]
  },
  {
   "cell_type": "markdown",
   "id": "191e524b-5273-407f-9fae-6d7cfd42365f",
   "metadata": {
    "tags": []
   },
   "source": [
    "## 1.2 График совместного распределения признаков\n",
    "\n",
    "\n",
    "Постройте график совместного распределения количественных признаков при помощи функции pairplot библиотеки seaborn"
   ]
  },
  {
   "cell_type": "code",
   "execution_count": 3,
   "id": "fba0ad5e-fd74-48ad-b5c1-2843867da1b0",
   "metadata": {},
   "outputs": [
    {
     "data": {
      "text/plain": [
       "<seaborn.axisgrid.PairGrid at 0x245932aaac0>"
      ]
     },
     "execution_count": 3,
     "metadata": {},
     "output_type": "execute_result"
    },
    {
     "data": {
      "image/png": "[encoded data removed]",
      "text/plain": [
       "<Figure size 720x720 with 20 Axes>"
      ]
     },
     "metadata": {
      "needs_background": "light"
     },
     "output_type": "display_data"
    }
   ],
   "source": [
    "sns.pairplot(data)"
   ]
  },
  {
   "cell_type": "markdown",
   "id": "7475d588-3703-43f6-837b-892115d0b2ec",
   "metadata": {
    "tags": []
   },
   "source": [
    "## 1.3 Разделение набора данных на тренировочный и тестовый\n",
    "\n",
    "Разделите набор данных на тренировочный и тестовый в соотношении 80%/20% при помощи функции train_test_split библиотеки sklearn.model_selection. При необходимости категориальные признаки в числовые (например, при помощи функции get_dummies библиотеки pandas)."
   ]
  },
  {
   "cell_type": "code",
   "execution_count": 4,
   "id": "461b536f-15ee-441b-9940-388e0e4944bc",
   "metadata": {},
   "outputs": [],
   "source": [
    "def transformColumn(value):\n",
    "    values, indexes = pd.factorize(data[value], sort=True)\n",
    "    return values\n",
    "\n",
    "data = data.dropna()\n",
    "data = data.drop(['name'],axis=1)\n",
    "data['fuel'] = transformColumn('fuel')\n",
    "data['seller_type'] = transformColumn('seller_type')\n",
    "data['transmission'] = transformColumn('transmission')\n",
    "data['owner'] = transformColumn('owner')\n",
    "data['torque'] = transformColumn('torque')\n",
    "\n",
    "data['mileage'] = pd.to_numeric(data['mileage'].str.extract(r\"\\b(\\d+)\\b\")[0], errors=\"coerce\")\n",
    "data['engine'] = pd.to_numeric(data['engine'].str.extract(r\"\\b(\\d+)\\b\")[0], errors=\"coerce\")\n",
    "data['max_power'] = pd.to_numeric(data['max_power'].str.extract(r\"\\b(\\d+)\\b\")[0], errors=\"coerce\")\n",
    "\n",
    "data = pd.get_dummies(data)\n",
    "X = data.drop(['selling_price'],axis=1)\n",
    "Y = data['selling_price']\n",
    "X_train, X_test, Y_train, Y_test = train_test_split(X, Y, test_size=.20, random_state=0)"
   ]
  },
  {
   "cell_type": "markdown",
   "id": "9d89b49b-d275-4504-821a-ed667c7f17fe",
   "metadata": {},
   "source": [
    "## 1.4 OLS regression\n",
    "\n",
    "Обучить модель линейной регрессии методом наименьших квадратов (ordinary least squares linear regression), импортировав класс `LinearRegression` из библиотеки `sklearn.linear_model`. Оцените ошибку вашей модели при помощи метрики RMSE. Посмотрите, как влияет исключение из набора данных выбросов (экстремальных значений, например, больше 95 квантиля(взято больше 81 квантиля)) на оценку ошибки.\n",
    "\n"
   ]
  },
  {
   "cell_type": "code",
   "execution_count": 5,
   "id": "d0b677b2-dd68-4b0c-8573-2e7f462c7b32",
   "metadata": {},
   "outputs": [
    {
     "name": "stdout",
     "output_type": "stream",
     "text": [
      "Error: 457200.4981903021\n",
      "Quality control <= Baseline:  False\n"
     ]
    }
   ],
   "source": [
    "ols_reg = LinearRegression()\n",
    "ols_reg.fit(X_train, Y_train)\n",
    "pred = ols_reg.predict(X_test)\n",
    "\n",
    "ols_reg = LinearRegression()\n",
    "ols_reg.fit(X_train, Y_train)\n",
    "pred = ols_reg.predict(X_test)\n",
    "\n",
    "mn = mean_squared_error(Y_test, pred, squared=False)\n",
    "print('Error:', mn)\n",
    "print('Quality control <= Baseline: ', mn <= 110000)"
   ]
  },
  {
   "cell_type": "code",
   "execution_count": 6,
   "id": "d7f97473-0e82-4b0b-9d70-5e95d2ceb426",
   "metadata": {},
   "outputs": [
    {
     "name": "stdout",
     "output_type": "stream",
     "text": [
      "quantile 81:  754050.0000000002\n"
     ]
    }
   ],
   "source": [
    "quant = np.quantile(Y, 0.81)\n",
    "print('quantile 81: ', quant)\n",
    "data_no_emissions = data[data['selling_price'] <= quant]"
   ]
  },
  {
   "cell_type": "code",
   "execution_count": 7,
   "id": "9335c416-524a-42a3-bea3-9a5f32e3b63c",
   "metadata": {},
   "outputs": [],
   "source": [
    "X2 = data_no_emissions.drop(['selling_price'],axis=1) \n",
    "Y2 = data_no_emissions['selling_price']\n",
    "X_train2, X_test2, Y_train2, Y_test2 = train_test_split(X2, Y2, test_size=.20, random_state=0)"
   ]
  },
  {
   "cell_type": "code",
   "execution_count": 8,
   "id": "c1dff642-7d19-4c45-8908-c343a14a0a1d",
   "metadata": {},
   "outputs": [
    {
     "name": "stdout",
     "output_type": "stream",
     "text": [
      "Error: 107534.79244169111\n",
      "Quality control <= Baseline:  True\n"
     ]
    }
   ],
   "source": [
    "ols_reg2 = LinearRegression()\n",
    "ols_reg2.fit(X_train2, Y_train2)\n",
    "pred2 = ols_reg2.predict(X_test2)\n",
    "\n",
    "mn = mean_squared_error(Y_test2, pred2, squared=False)\n",
    "print('Error:', mn)\n",
    "print('Quality control <= Baseline: ', mn <= 110000)"
   ]
  },
  {
   "cell_type": "markdown",
   "id": "cb91fb11-3f1e-481b-b6b8-1610f2ee46e7",
   "metadata": {},
   "source": [
    "## 1.5 Ridge regression\n",
    "\n",
    "Обучить модель линейной регрессии с $L_2$-регуляризацией (Гребневая регрессия, Ridge regression), импортировав класс `Ridge` из библиотеки `sklearn.linear_model`. Оцените ошибку вашей модели при помощи метрики RMSE\n"
   ]
  },
  {
   "cell_type": "code",
   "execution_count": 9,
   "id": "52e6cf63-c89b-4a38-8be4-68e270bb2eb0",
   "metadata": {},
   "outputs": [
    {
     "name": "stdout",
     "output_type": "stream",
     "text": [
      "Error: 107536.98052172005\n",
      "Quality control <= Baseline:  True\n"
     ]
    }
   ],
   "source": [
    "ridge_reg = Ridge()\n",
    "ridge_reg.fit(X_train2, Y_train2)\n",
    "pred = ridge_reg.predict(X_test2)\n",
    "\n",
    "mn = mean_squared_error(Y_test2, pred, squared=False)\n",
    "print('Error:', mn)\n",
    "print('Quality control <= Baseline: ', mn <= 110000)"
   ]
  },
  {
   "cell_type": "markdown",
   "id": "b9d01e1f-88c6-40eb-9b8e-990401eb9640",
   "metadata": {},
   "source": [
    "## 1.6 Lasso regression\n",
    "\n",
    "Обучить модель линейной регрессии с $L_1$-регуляризацией (Lasso regression), импортировав класс `Lasso` из библиотеки `sklearn.linear_model`. Оцените ошибку вашей модели при помощи метрики RMSE"
   ]
  },
  {
   "cell_type": "code",
   "execution_count": 10,
   "id": "fc763cd0-e06c-4431-86b0-d2db08dac613",
   "metadata": {},
   "outputs": [
    {
     "name": "stdout",
     "output_type": "stream",
     "text": [
      "Error: 107535.1859935071\n",
      "Quality control <= Baseline:  True\n"
     ]
    }
   ],
   "source": [
    "lasso_reg = Lasso()\n",
    "lasso_reg.fit(X_train2, Y_train2)\n",
    "pred = lasso_reg.predict(X_test2)\n",
    "\n",
    "mn = mean_squared_error(Y_test2, pred, squared=False)\n",
    "print('Error:', mn)\n",
    "print('Quality control <= Baseline: ', mn <= 110000)"
   ]
  },
  {
   "cell_type": "markdown",
   "id": "bcfffa58-7b0b-454c-91a3-64dde8d4047a",
   "metadata": {},
   "source": [
    "## 1.7 Оптимизация Ridge regression\n",
    "\n",
    "Сделайте перебор в цикле гиперпараметра `alpha` для модели `Ridge` от 0 до 1 с шагом 0.05. Постройте график ошибки RMSE на тестовых данных в зависимости от гиперпараметра `alpha`"
   ]
  },
  {
   "cell_type": "code",
   "execution_count": 11,
   "id": "508cf5bc-7e44-4716-b689-137cb31d968a",
   "metadata": {},
   "outputs": [
    {
     "data": {
      "image/png": "[encoded data removed]",
      "text/plain": [
       "<Figure size 432x288 with 1 Axes>"
      ]
     },
     "metadata": {
      "needs_background": "light"
     },
     "output_type": "display_data"
    }
   ],
   "source": [
    "RMSE = []\n",
    "for alpha in np.linspace(0.05,1.05,21):\n",
    "  ridge_reg = Ridge(alpha=alpha)\n",
    "  ridge_reg.fit(X_train2, Y_train2)\n",
    "  pred = ridge_reg.predict(X_test2)\n",
    "  RMSE.append(mean_squared_error(Y_test2, pred, squared=False))\n",
    "\n",
    "plt.plot(np.linspace(0.05,1.05,21), RMSE)\n",
    "plt.xlabel('alpha')\n",
    "plt.ylabel('RMSE')\n",
    "plt.show()"
   ]
  },
  {
   "cell_type": "markdown",
   "id": "c116a348-40b9-419c-b714-d15f49581569",
   "metadata": {
    "tags": []
   },
   "source": [
    "## 1.8 Вывод\n",
    "\n",
    "Сравните качество (величину ошибки) для моделей из пп. 1.4-1.7. Какая модель показала наилучший результат?"
   ]
  },
  {
   "cell_type": "markdown",
   "id": "5f27cbaf-ccf1-435f-8691-0b4bf18f90dc",
   "metadata": {},
   "source": [
    "Ваш ответ: \n",
    "Модель, показавшая лучший результат: OLS regression с RMSE = 107534.79244169111"
   ]
  },
  {
   "cell_type": "markdown",
   "id": "61f15876-bb35-4d7a-8804-871b7f36f13d",
   "metadata": {},
   "source": [
    "# 2. Задача классификации (9 баллов)\n",
    "\n",
    "Постройте модель машинного обучения, решающую задачу классификации на вашем наборе данных. Задание считается выполненным, если соответствующая оценка качества на тестовой выборке >= baseline."
   ]
  },
  {
   "cell_type": "markdown",
   "id": "88041d1b-d9c0-48ed-9ae1-a41dcf403371",
   "metadata": {},
   "source": [
    "## 2.1 Загрузка данных\n",
    "\n",
    "Загрузите данные в датафрейм при помощи функции `read_csv` блиблиотеки `pandas`"
   ]
  },
  {
   "cell_type": "code",
   "execution_count": 12,
   "id": "128bd82d-46ef-4a3d-85a7-34cd6bb8c815",
   "metadata": {},
   "outputs": [],
   "source": [
    "data = pd.read_csv('C:\\\\Users\\\\korol\\\\Downloads\\\\L\\\\WA_Fn-UseC_-HR-Employee-Attrition.csv')"
   ]
  },
  {
   "cell_type": "markdown",
   "id": "8b25debd-df69-423e-839d-bbd659c4d703",
   "metadata": {
    "tags": []
   },
   "source": [
    "## 2.2 Разделение набора данных на тренировочный и тестовый\n",
    "\n",
    "Разделите набор данных на тренировочный и тестовый при помощи функции `train_test_split` библиотеки ???"
   ]
  },
  {
   "cell_type": "code",
   "execution_count": 13,
   "id": "f5860ccc-f488-40c0-a1b4-1a6b61376348",
   "metadata": {},
   "outputs": [],
   "source": [
    "def transformColumn(value):\n",
    "    values, indexes = pd.factorize(data[value], sort=True)\n",
    "    return values\n",
    "\n",
    "\n",
    "data = data.dropna()\n",
    "\n",
    "\n",
    "data['Attrition'] = transformColumn('Attrition')\n",
    "data['BusinessTravel'] = transformColumn('BusinessTravel')\n",
    "data['Department'] = transformColumn('Department')\n",
    "data['EducationField'] = transformColumn('EducationField')\n",
    "data['Gender'] = transformColumn('Gender')\n",
    "data['JobRole'] = transformColumn('JobRole')\n",
    "data['MaritalStatus'] = transformColumn('MaritalStatus')\n",
    "data['Over18'] = transformColumn('Over18')\n",
    "data['OverTime'] = transformColumn('OverTime')\n",
    "\n",
    "X = data.drop(['Attrition'],axis=1)\n",
    "Y = data['Attrition']\n",
    "X_train, X_test, Y_train, Y_test = train_test_split(X, Y, test_size=.20, random_state=0)"
   ]
  },
  {
   "cell_type": "markdown",
   "id": "8ae0febe-1ca1-4987-94cd-50f1fc44c7c2",
   "metadata": {},
   "source": [
    "## 2.3 Предобработка данных\n",
    "\n",
    "Проведите необходимую предобработку (перенормировку, выделение главных компонент и т.д.) данных. Приведите данные к такому виду, чтобы их можно было использовать для обучения моделей."
   ]
  },
  {
   "cell_type": "code",
   "execution_count": 14,
   "id": "5ad5395e-87ce-45f1-b8be-87010f980fc9",
   "metadata": {},
   "outputs": [],
   "source": [
    "stScaler = StandardScaler() \n",
    "stTrain = stScaler.fit_transform(X_train) \n",
    "stTest = stScaler.transform(X_test) \n",
    "\n",
    "pca = PCA(n_components=0.95) \n",
    "pcaTrain = pca.fit_transform(stTrain)\n",
    "pcaTest = pca.transform(stTest)"
   ]
  },
  {
   "cell_type": "markdown",
   "id": "02878c27-bb43-486d-ad7b-79a59d7f3350",
   "metadata": {},
   "source": [
    "## 2.4 Логистическая регрессия\n",
    "Обучите модель логистической регрессии, используя стандартную реализацию sklearn.linear_model.LogisticRegression. Оцените метрики качества полученной модели при помощи sklearn.metrics.classification_report и sklearn.metrics.f1_score."
   ]
  },
  {
   "cell_type": "code",
   "execution_count": 15,
   "id": "1bc14411-e1d7-4bdb-8a87-13fbc377e85a",
   "metadata": {},
   "outputs": [
    {
     "name": "stdout",
     "output_type": "stream",
     "text": [
      "              precision    recall  f1-score   support\n",
      "\n",
      "           0       0.98      0.89      0.93       271\n",
      "           1       0.37      0.78      0.50        23\n",
      "\n",
      "    accuracy                           0.88       294\n",
      "   macro avg       0.67      0.83      0.72       294\n",
      "weighted avg       0.93      0.88      0.90       294\n",
      "\n"
     ]
    }
   ],
   "source": [
    "logistic_reg =LogisticRegression()\n",
    "logistic_reg.fit(pcaTrain, Y_train)\n",
    "pred = logistic_reg.predict(pcaTest)\n",
    "\n",
    "table = classification_report(pred, Y_test) \n",
    "print(table)"
   ]
  },
  {
   "cell_type": "code",
   "execution_count": 16,
   "id": "2d49e434-dcf3-4baf-88ec-01e10b0d9bef",
   "metadata": {},
   "outputs": [
    {
     "name": "stdout",
     "output_type": "stream",
     "text": [
      "f1 score:  0.7151162790697674\n"
     ]
    }
   ],
   "source": [
    "f1 = f1_score(pred, Y_test, average='macro') \n",
    "print('f1 score: ', f1)"
   ]
  },
  {
   "cell_type": "markdown",
   "id": "5b5dc101-cad2-4c35-b1d8-320f0e9215e1",
   "metadata": {},
   "source": [
    "## 2.5 Подбор гиперпараметра регуляризации\n",
    "\n",
    "При помощи sklearn.model_selection.GridSearchCV переберите оптимальные параметры C в диапазоне 0.01 до 1 с шагом 0.1."
   ]
  },
  {
   "cell_type": "code",
   "execution_count": 17,
   "id": "1cb0434b-893a-4eb1-b089-00bec2f154f7",
   "metadata": {},
   "outputs": [
    {
     "data": {
      "text/plain": [
       "({'C': 0.11}, 0.8639523981247746)"
      ]
     },
     "execution_count": 17,
     "metadata": {},
     "output_type": "execute_result"
    }
   ],
   "source": [
    "grid_search=GridSearchCV(LogisticRegression(),{'C':np.arange(0.01,1.01,0.1)},return_train_score=True).fit(pcaTrain,Y_train)\n",
    "grid_search.best_params_,grid_search.best_score_"
   ]
  },
  {
   "cell_type": "markdown",
   "id": "fe57d7a6-5ee3-45a6-ba7c-c318416463b2",
   "metadata": {},
   "source": [
    "## 2.6 Выводы\n",
    "\n",
    "Сравните качество (величину ошибки) для моделей из пп. 2.4-2.5. Какая модель показала наилучший результат?"
   ]
  },
  {
   "cell_type": "code",
   "execution_count": 18,
   "id": "95d60a1e-1f75-463a-9a39-4baeaf32eecb",
   "metadata": {},
   "outputs": [
    {
     "name": "stdout",
     "output_type": "stream",
     "text": [
      "              precision    recall  f1-score   support\n",
      "\n",
      "           0       0.98      0.89      0.93       271\n",
      "           1       0.37      0.78      0.50        23\n",
      "\n",
      "    accuracy                           0.88       294\n",
      "   macro avg       0.67      0.83      0.72       294\n",
      "weighted avg       0.93      0.88      0.90       294\n",
      "\n",
      "f1 score:  0.7151162790697674 \n",
      "\n",
      "              precision    recall  f1-score   support\n",
      "\n",
      "           0       0.98      0.88      0.93       272\n",
      "           1       0.35      0.77      0.48        22\n",
      "\n",
      "    accuracy                           0.87       294\n",
      "   macro avg       0.66      0.83      0.70       294\n",
      "weighted avg       0.93      0.87      0.89       294\n",
      "\n",
      "f1 score:  0.7036532541477103\n"
     ]
    }
   ],
   "source": [
    "table = classification_report(pred, Y_test) \n",
    "print(table)\n",
    "f1 = f1_score(pred, Y_test, average='macro') \n",
    "print('f1 score: ', f1,'\\n')\n",
    "pred2=grid_search.predict(pcaTest)\n",
    "table = classification_report(pred2, Y_test) \n",
    "print(table)\n",
    "f1 = f1_score(pred2, Y_test, average='macro') \n",
    "print('f1 score: ', f1)"
   ]
  },
  {
   "cell_type": "markdown",
   "id": "0232ef22-bed4-4f91-93c0-ebfad07b6b59",
   "metadata": {},
   "source": [
    "Ваш ответ: \n",
    "Как видно из вывода, Модель 1 показала более лучший результат."
   ]
  },
  {
   "cell_type": "markdown",
   "id": "1c0d5a20-bed2-4339-a54c-8f84679e2fcf",
   "metadata": {},
   "source": [
    "# 3. Самописная линейная регрессиия (3 балла)\n",
    "\n",
    "Релизовать алгоритм построения модели линейной регрессии методом стохастического градиентного спуска (stochastic gradient descent, SGD) при помощи библиотек numpy, pytorch или tensorflow."
   ]
  },
  {
   "cell_type": "raw",
   "id": "ce6b802d-004d-425b-ba91-789c3d9e01d2",
   "metadata": {},
   "source": [
    "class SGDLinearRegression:\n",
    "    def __init__(self, epsilon = 0.001):\n",
    "        self.w = None\n",
    "        self.bias = None\n",
    "        self.epsilon = epsilon\n",
    "        pass\n",
    "\n",
    "    def fit(self, X, y, iterations=500):\n",
    "        # Ваш код здесь\n",
    "        pass\n",
    "    \n",
    "    def predict(self, X):\n",
    "        # Ваш код здесь\n",
    "        pass"
   ]
  },
  {
   "cell_type": "markdown",
   "id": "139ac0f9-3e54-4540-9d93-16fba06449b4",
   "metadata": {},
   "source": [
    "3.2 Обучите самописную модель. Воспользуйтесь sklearn.model_selection.GridSearchCV для подбора гипермапарметра (шага обновления градиента) epsilon среди numpy.geomspace(0.0001, 1, num=13). Постройте график функции ошибки для epsilon [0.0001, 0.001, 0.01, 0.1, 1]."
   ]
  },
  {
   "cell_type": "markdown",
   "id": "4bc10c07-8dad-4130-8de9-f60fb7975fbc",
   "metadata": {},
   "source": [
    "3.3 Обучите модель на основе класса sklearn.linear_model.SGDRegressor с параметрами `alpha=0`. Сравните качество с вашими моделями из пункта 3.2."
   ]
  },
  {
   "cell_type": "markdown",
   "id": "90a7f389-fb4d-4800-948b-abc5ab1c2636",
   "metadata": {},
   "source": [
    "Ваш вывод (2-3 предложения):"
   ]
  },
  {
   "cell_type": "markdown",
   "id": "d47f0201-58b5-46c8-9064-821562e93fda",
   "metadata": {},
   "source": [
    "# 4. Самописная логистическая регрессиия (4 балла)\n",
    "\n",
    "Релизовать алгоритм построения модели логистической регрессии методом стохастического градиентного спуска (stochastic gradient descent, SGD) при помощи библиотек numpy, pytorch или tensorflow."
   ]
  },
  {
   "cell_type": "raw",
   "id": "e8cbd750-5892-4338-ab05-fe520e1a3ddf",
   "metadata": {},
   "source": [
    "class SGDLogisticRegression:\n",
    "    def __init__(self, epsilon = 0.001):\n",
    "        self.w = None\n",
    "        self.bias = None\n",
    "        self.epsilon = epsilon\n",
    "        pass\n",
    "\n",
    "    def sigmoid(self, a):\n",
    "        return  1. / (1. + np.exp(-1. * a))\n",
    "\n",
    "    def fit(self, X, y, iterations=500):\n",
    "        # Ваш код здесь\n",
    "        pass\n",
    "\n",
    "\n",
    "    def predict(self, X):\n",
    "        # Ваш код здесь\n",
    "        pass\n"
   ]
  },
  {
   "cell_type": "markdown",
   "id": "d19bc987-2323-46c4-a6a2-50d97bf0e49a",
   "metadata": {},
   "source": [
    "4.2 Обучите самописную модель. Воспользуйтесь sklearn.model_selection.GridSearchCV для подбора гипермапарметра (шага обновления градиента) epsilon среди `numpy.geomspace(0.0001, 1, num=13)`. Постройте график функции ошибки для epsilon `[0.0001, 0.001, 0.01, 0.1, 1]`."
   ]
  },
  {
   "cell_type": "markdown",
   "id": "dfa7b5a3-50ae-4519-afc0-57ff4122fe52",
   "metadata": {},
   "source": [
    " 4.3 Обучите модель на основе класса sklearn.linear_model.SGDClassifier с параметрами `loss='log'`. Сравните качество с вашими моделями из пункта 4.2."
   ]
  },
  {
   "cell_type": "markdown",
   "id": "cac659ed-a6ee-4ab5-b973-0c58494201af",
   "metadata": {},
   "source": [
    "Ваш вывод (2-3 предложения):"
   ]
  }
 ],
 "metadata": {
  "kernelspec": {
   "display_name": "Python 3 (ipykernel)",
   "language": "python",
   "name": "python3"
  },
  "language_info": {
   "codemirror_mode": {
    "name": "ipython",
    "version": 3
   },
   "file_extension": ".py",
   "mimetype": "text/x-python",
   "name": "python",
   "nbconvert_exporter": "python",
   "pygments_lexer": "ipython3",
   "version": "3.9.7"
  }
 },
 "nbformat": 4,
 "nbformat_minor": 5
}
